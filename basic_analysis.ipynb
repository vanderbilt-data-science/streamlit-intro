{
 "cells": [
  {
   "cell_type": "markdown",
   "id": "6a83aa75-4dca-4339-bd3b-1f76696e8ec5",
   "metadata": {},
   "source": [
    "# Basic analysis\n",
    "> A basic outline of the penguins dataset analysis\n",
    "\n",
    "In this notebook, we acclimate ourselves to the penguins dataset to understand what's in it and what we can do with it."
   ]
  },
  {
   "cell_type": "code",
   "execution_count": null,
   "id": "b17eae3e-cc3c-437d-b79a-b9cd0fa1bed9",
   "metadata": {},
   "outputs": [],
   "source": [
    "#basic ds package imports\n",
    "import pandas as pd\n",
    "import numpy as np\n",
    "import matplotlib.pyplot as plt\n",
    "import seaborn as sns\n",
    "from sklearn.metrics import confusion_matrix, ConfusionMatrixDisplay"
   ]
  },
  {
   "cell_type": "code",
   "execution_count": null,
   "id": "018632a7-2718-4093-9a16-3f9ddc1a3641",
   "metadata": {},
   "outputs": [],
   "source": [
    "#rmv\n",
    "#read csv\n",
    "df = pd.read_csv('penguins.csv')\n",
    "df.info()"
   ]
  },
  {
   "cell_type": "markdown",
   "id": "7adf53f7-7f43-4eb2-932f-bd741c592f00",
   "metadata": {},
   "source": [
    "We can see that there are at least a few null here, so we'll probably have to remedy those at some point.  Otherwise, let's take a look at the beginning just to get a sense of the data..."
   ]
  },
  {
   "cell_type": "code",
   "execution_count": null,
   "id": "b931f865-49c6-4321-a705-5ce7f218ce8b",
   "metadata": {},
   "outputs": [],
   "source": [
    "#rmv\n",
    "#get basic info and preview\n",
    "display(df.head())\n",
    "df.shape"
   ]
  },
  {
   "cell_type": "markdown",
   "id": "45a50338-d7c2-4c3f-b8f5-35fc66857582",
   "metadata": {},
   "source": [
    "Let's get a sense of what happens if we drop rows with any NA in them whatsoever..."
   ]
  },
  {
   "cell_type": "code",
   "execution_count": null,
   "id": "201bc63f-ffec-47e1-9a0a-9f077f5e9ca2",
   "metadata": {},
   "outputs": [],
   "source": [
    "#rmv\n",
    "df.dropna(inplace=True)\n",
    "df.shape"
   ]
  },
  {
   "cell_type": "markdown",
   "id": "69e8f223-d3d9-49d5-9e91-f59f0c4cf574",
   "metadata": {},
   "source": [
    "This is fine.  Let's move forward with this."
   ]
  },
  {
   "cell_type": "markdown",
   "id": "68652d88-470a-4a0a-9073-044ec550d178",
   "metadata": {},
   "source": [
    "# Basic visualizations"
   ]
  },
  {
   "cell_type": "code",
   "execution_count": null,
   "id": "7a3e43a1-542b-4ff5-8a85-9d2412e98b3c",
   "metadata": {},
   "outputs": [],
   "source": [
    "def plot_multiple(indf, include=None, exclude=None, no_cols=3, figsize=(9,4)):\n",
    "    \n",
    "    #get subset\n",
    "    plot_df = indf.select_dtypes(include=include) if include is not None else indf.select_dtypes(exclude=exclude)\n",
    "    plot_type = 'cat' if 'object' in plot_df.dtypes.values else 'num'\n",
    "    \n",
    "    #setup subplots\n",
    "    no_vars = len(plot_df.columns)\n",
    "    pltsize = None if plot_type=='num' else figsize\n",
    "    fig, ax = plt.subplots(1, no_vars, figsize=pltsize)\n",
    "    plt_axs = zip(ax, plot_df.columns.tolist())\n",
    "    \n",
    "    #plot based on categorical vs numerical\n",
    "    if plot_type=='num':\n",
    "        for ax, col in plt_axs:\n",
    "            plot_df[col].plot(kind='hist', ax=ax, figsize=figsize)\n",
    "            ax.set_xlabel(col)\n",
    "            plt.tight_layout()\n",
    "    else:\n",
    "        [plot_df.value_counts(col).plot(kind='bar', ax=ax, ylabel='Frequency') for ax, col in plt_axs]\n",
    "        plt.tight_layout()\n",
    "    \n",
    "    return fig"
   ]
  },
  {
   "cell_type": "code",
   "execution_count": null,
   "id": "3868abb4-4b0c-457c-908b-a591f528a285",
   "metadata": {},
   "outputs": [],
   "source": [
    "#rmv\n",
    "plot_multiple(df, include='object')"
   ]
  },
  {
   "cell_type": "code",
   "execution_count": null,
   "id": "b449c277-8725-430f-879a-280cf4782023",
   "metadata": {},
   "outputs": [],
   "source": [
    "#rmv\n",
    "plot_multiple(df, exclude='object')"
   ]
  },
  {
   "cell_type": "markdown",
   "id": "14cff2b5-a3b8-4cfe-89b4-907b31244d55",
   "metadata": {},
   "source": [
    "# Pairwise relationships"
   ]
  },
  {
   "cell_type": "code",
   "execution_count": null,
   "id": "53068b2f-72ae-4470-9bd7-e659e8cdd91b",
   "metadata": {},
   "outputs": [],
   "source": [
    "#rmv\n",
    "sns.pairplot(data=df, hue='species');"
   ]
  },
  {
   "cell_type": "code",
   "execution_count": null,
   "id": "46c2ac28-338a-4773-a86c-a24c4940e224",
   "metadata": {},
   "outputs": [],
   "source": [
    "#rmv\n",
    "sns.pairplot(data=df, hue='island');"
   ]
  },
  {
   "cell_type": "markdown",
   "id": "394da881-261c-44f6-a525-edd8030b4969",
   "metadata": {},
   "source": [
    "# Modeling\n",
    "Here, we generate some test data so we can inspect the confusion matrix and determine a threshold for classification."
   ]
  },
  {
   "cell_type": "code",
   "execution_count": null,
   "id": "a83c5f89-b704-44be-a272-467c13f9406b",
   "metadata": {},
   "outputs": [],
   "source": [
    "def generate_test_data(pred_sz=30):\n",
    "    \n",
    "    #randomly generate probabilities\n",
    "    probs = np.random.rand(pred_sz)\n",
    "    \n",
    "    #dummy assignment of actual with a bit of variance mixed in\n",
    "    actual = probs>=0.72\n",
    "    random_wrong = np.random.rand(pred_sz)<0.1\n",
    "    actual[random_wrong] = ~actual[random_wrong]\n",
    "    actual = actual.astype(int)\n",
    "    \n",
    "    #create preds df\n",
    "    pred_df = pd.DataFrame({'.p0':1-probs, '.p1':probs, '.actual':actual})\n",
    "    \n",
    "    #return\n",
    "    return(pred_df)"
   ]
  },
  {
   "cell_type": "code",
   "execution_count": null,
   "id": "9fe2ddee-6089-477b-b820-206e279e3f34",
   "metadata": {},
   "outputs": [],
   "source": [
    "#rmv\n",
    "#generate dataset\n",
    "pred_df = generate_test_data()\n",
    "pred_df"
   ]
  },
  {
   "cell_type": "code",
   "execution_count": null,
   "id": "8518c2b2-f518-4430-9567-78c23b0535b1",
   "metadata": {},
   "outputs": [],
   "source": [
    "def tune_threshold(preds_df, threshold=0.5):\n",
    "    \n",
    "    #get threshold and convert to int\n",
    "    preds_df['.pred_class'] = preds_df['.p1'] >= threshold\n",
    "    preds_df['.pred_class'] = preds_df['.pred_class'].astype(int)\n",
    "    \n",
    "    #plot confusion matrix\n",
    "    cm = confusion_matrix(preds_df['.actual'], preds_df['.pred_class'])\n",
    "    disp = ConfusionMatrixDisplay(cm, display_labels=['male', 'female'])\n",
    "    \n",
    "    return disp"
   ]
  },
  {
   "cell_type": "code",
   "execution_count": null,
   "id": "fe0a7479-f431-4b65-ad29-86d90ecf6d91",
   "metadata": {},
   "outputs": [],
   "source": [
    "#rmv\n",
    "test = tune_threshold(pred_df)\n",
    "test.plot(cmap='RdPu');"
   ]
  },
  {
   "cell_type": "markdown",
   "id": "66a1626f-9345-4173-b5c7-db407d48fb2e",
   "metadata": {},
   "source": [
    "# Predict\n",
    "Here, we use our model to predict the sex of the penguin.  Note that this is just some random values so you'll expect these to change even if the inputs don't change."
   ]
  },
  {
   "cell_type": "code",
   "execution_count": null,
   "id": "e22c765e-41b2-4eea-b1ad-1b4123d44e63",
   "metadata": {},
   "outputs": [],
   "source": [
    "def penguins_predict(input_vec, thresh):\n",
    "    \n",
    "    pred_val = np.random.rand(1)\n",
    "    return 'female' if pred_val >= thresh else 'male'"
   ]
  },
  {
   "cell_type": "code",
   "execution_count": null,
   "id": "1ee8f5ad-45ff-43b4-99ff-6375ffc01368",
   "metadata": {},
   "outputs": [],
   "source": [
    "#rmv\n",
    "penguins_predict([3,4,5,56], 0.5)"
   ]
  },
  {
   "cell_type": "code",
   "execution_count": null,
   "id": "e1ffcfcc-4fb8-4611-a4d0-880f23b15b52",
   "metadata": {},
   "outputs": [],
   "source": [
    "#rmv\n",
    "#!jupyter nbconvert --RegexRemovePreprocessor.patterns=\"[.\\s]*#rmv.*\\s\" basic_analysis.ipynb --to script --PythonExporter.exclude_markdown=True"
   ]
  }
 ],
 "metadata": {
  "kernelspec": {
   "display_name": "Python 3",
   "language": "python",
   "name": "python3"
  }
 },
 "nbformat": 4,
 "nbformat_minor": 5
}
