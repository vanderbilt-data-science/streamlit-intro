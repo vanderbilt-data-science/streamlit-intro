{
 "cells": [
  {
   "cell_type": "markdown",
   "metadata": {},
   "source": [
    "# Basic analysis\n",
    "> A basic outline of the penguins dataset analysis\n",
    "\n",
    "In this notebook, we acclimate ourselves to the penguins dataset to understand what's in it and what we can do with it."
   ]
  },
  {
   "cell_type": "code",
   "execution_count": null,
   "metadata": {},
   "outputs": [],
   "source": [
    "#basic ds package imports\n",
    "import pandas as pd\n",
    "import numpy as np\n",
    "import matplotlib.pyplot as plt\n",
    "import seaborn as sns\n",
    "from sklearn.metrics import confusion_matrix, ConfusionMatrixDisplay"
   ]
  },
  {
   "cell_type": "code",
   "execution_count": null,
   "metadata": {},
   "outputs": [],
   "source": [
    "#rmv\n",
    "#read csv\n",
    "df = pd.read_csv('https://raw.githubusercontent.com/allisonhorst/palmerpenguins/master/inst/extdata/penguins.csv')\n",
    "df.info()"
   ]
  },
  {
   "cell_type": "markdown",
   "metadata": {},
   "source": [
    "We can see that there are at least a few null here, so we'll probably have to remedy those at some point.  Otherwise, let's take a look at the beginning just to get a sense of the data..."
   ]
  },
  {
   "cell_type": "code",
   "execution_count": null,
   "metadata": {},
   "outputs": [],
   "source": [
    "#rmv\n",
    "#get basic info and preview\n",
    "display(df.head())\n",
    "df.shape"
   ]
  },
  {
   "cell_type": "markdown",
   "metadata": {},
   "source": [
    "Let's get a sense of what happens if we drop rows with any NA in them whatsoever..."
   ]
  },
  {
   "cell_type": "code",
   "execution_count": null,
   "metadata": {},
   "outputs": [],
   "source": [
    "#rmv\n",
    "df.dropna(inplace=True)\n",
    "df.shape"
   ]
  },
  {
   "cell_type": "markdown",
   "metadata": {},
   "source": [
    "This is fine.  Let's move forward with this."
   ]
  },
  {
   "cell_type": "markdown",
   "metadata": {},
   "source": [
    "# Basic visualizations"
   ]
  },
  {
   "cell_type": "code",
   "execution_count": null,
   "metadata": {},
   "outputs": [],
   "source": [
    "def plot_multiple(indf, include=None, exclude=None, no_cols=3, figsize=(9,4)):\n",
    "    \n",
    "    #get subset\n",
    "    plot_df = indf.select_dtypes(include=include) if include is not None else indf.select_dtypes(exclude=exclude)\n",
    "    plot_type = 'cat' if 'object' in plot_df.dtypes.values else 'num'\n",
    "    \n",
    "    #setup subplots\n",
    "    no_vars = len(plot_df.columns)\n",
    "    pltsize = None if plot_type=='num' else figsize\n",
    "    fig, ax = plt.subplots(1, no_vars, figsize=pltsize)\n",
    "    plt_axs = zip(ax, plot_df.columns.tolist())\n",
    "    \n",
    "    #plot based on categorical vs numerical\n",
    "    if plot_type=='num':\n",
    "        for ax, col in plt_axs:\n",
    "            plot_df[col].plot(kind='hist', ax=ax, figsize=figsize)\n",
    "            ax.set_xlabel(col)\n",
    "            plt.tight_layout()\n",
    "    else:\n",
    "        [plot_df.value_counts(col).plot(kind='bar', ax=ax, ylabel='Frequency') for ax, col in plt_axs]\n",
    "        plt.tight_layout()\n",
    "    \n",
    "    return fig"
   ]
  },
  {
   "cell_type": "code",
   "execution_count": null,
   "metadata": {},
   "outputs": [],
   "source": [
    "#rmv\n",
    "plot_multiple(df, include='object')"
   ]
  },
  {
   "cell_type": "code",
   "execution_count": null,
   "metadata": {},
   "outputs": [],
   "source": [
    "#rmv\n",
    "plot_multiple(df, exclude='object')"
   ]
  },
  {
   "cell_type": "markdown",
   "metadata": {},
   "source": [
    "# Pairwise relationships"
   ]
  },
  {
   "cell_type": "code",
   "execution_count": null,
   "metadata": {},
   "outputs": [],
   "source": [
    "#rmv\n",
    "sns.pairplot(data=df, hue='species');"
   ]
  },
  {
   "cell_type": "code",
   "execution_count": null,
   "metadata": {},
   "outputs": [],
   "source": [
    "#rmv\n",
    "sns.pairplot(data=df, hue='island');"
   ]
  },
  {
   "cell_type": "markdown",
   "metadata": {},
   "source": [
    "# Modeling\n",
    "Here, we generate some test data so we can inspect the confusion matrix and determine a threshold for classification."
   ]
  },
  {
   "cell_type": "code",
   "execution_count": null,
   "metadata": {},
   "outputs": [],
   "source": [
    "def generate_test_data(pred_sz=30):\n",
    "    \n",
    "    #randomly generate probabilities\n",
    "    probs = np.random.rand(pred_sz)\n",
    "    \n",
    "    #dummy assignment of actual with a bit of variance mixed in\n",
    "    actual = probs>=0.72\n",
    "    random_wrong = np.random.rand(pred_sz)<0.1\n",
    "    actual[random_wrong] = ~actual[random_wrong]\n",
    "    actual = actual.astype(int)\n",
    "    \n",
    "    #create preds df\n",
    "    pred_df = pd.DataFrame({'.p0':1-probs, '.p1':probs, '.actual':actual})\n",
    "    \n",
    "    #return\n",
    "    return(pred_df)"
   ]
  },
  {
   "cell_type": "code",
   "execution_count": null,
   "metadata": {},
   "outputs": [],
   "source": [
    "#rmv\n",
    "#generate dataset\n",
    "pred_df = generate_test_data()\n",
    "pred_df"
   ]
  },
  {
   "cell_type": "code",
   "execution_count": null,
   "metadata": {},
   "outputs": [],
   "source": [
    "def tune_threshold(preds_df, threshold=0.5):\n",
    "    \n",
    "    #get threshold and convert to int\n",
    "    preds_df['.pred_class'] = preds_df['.p1'] >= threshold\n",
    "    preds_df['.pred_class'] = preds_df['.pred_class'].astype(int)\n",
    "    \n",
    "    #plot confusion matrix\n",
    "    cm = confusion_matrix(preds_df['.actual'], preds_df['.pred_class'])\n",
    "    disp = ConfusionMatrixDisplay(cm, display_labels=['male', 'female'])\n",
    "    \n",
    "    return disp"
   ]
  },
  {
   "cell_type": "code",
   "execution_count": null,
   "metadata": {},
   "outputs": [],
   "source": [
    "#rmv\n",
    "test = tune_threshold(pred_df)\n",
    "test.plot(cmap='RdPu');"
   ]
  },
  {
   "cell_type": "markdown",
   "metadata": {},
   "source": [
    "# Predict\n",
    "Here, we use our model to predict the sex of the penguin.  Note that this is just some random values so you'll expect these to change even if the inputs don't change."
   ]
  },
  {
   "cell_type": "code",
   "execution_count": null,
   "metadata": {},
   "outputs": [],
   "source": [
    "def penguins_predict(input_vec, thresh):\n",
    "    \n",
    "    pred_val = np.random.rand(1)\n",
    "    return 'female' if pred_val >= thresh else 'male'"
   ]
  },
  {
   "cell_type": "code",
   "execution_count": null,
   "metadata": {},
   "outputs": [],
   "source": [
    "#rmv\n",
    "penguins_predict([3,4,5,56], 0.5)"
   ]
  },
  {
   "cell_type": "code",
   "execution_count": null,
   "metadata": {},
   "outputs": [],
   "source": [
    "#rmv\n",
    "#!jupyter nbconvert --RegexRemovePreprocessor.patterns=\"[.\\s]*#rmv.*\\s\" basic_analysis.ipynb --to script --PythonExporter.exclude_markdown=True"
   ]
  }
 ],
 "metadata": {
  "kernelspec": {
   "display_name": "Python 3",
   "language": "python",
   "name": "python3"
  }
 },
 "nbformat": 4,
 "nbformat_minor": 5
}
